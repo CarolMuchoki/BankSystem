{
 "cells": [
  {
   "cell_type": "code",
   "execution_count": 1,
   "id": "e385473a",
   "metadata": {},
   "outputs": [
    {
     "data": {
      "text/plain": [
       "0.036865328383323424"
      ]
     },
     "execution_count": 1,
     "metadata": {},
     "output_type": "execute_result"
    }
   ],
   "source": [
    "import scipy.stats\n",
    "\n",
    "scipy.stats.t.sf(abs(1.87), df=24)"
   ]
  },
  {
   "cell_type": "code",
   "execution_count": 3,
   "id": "30395a58",
   "metadata": {},
   "outputs": [
    {
     "data": {
      "text/plain": [
       "0.18304931466593782"
      ]
     },
     "execution_count": 3,
     "metadata": {},
     "output_type": "execute_result"
    }
   ],
   "source": [
    "import scipy.stats\n",
    "scipy.stats.t.sf(abs(1.36), df=33)*2"
   ]
  },
  {
   "cell_type": "code",
   "execution_count": null,
   "id": "d41a3fa5",
   "metadata": {},
   "outputs": [],
   "source": []
  }
 ],
 "metadata": {
  "kernelspec": {
   "display_name": "Python 3 (ipykernel)",
   "language": "python",
   "name": "python3"
  },
  "language_info": {
   "codemirror_mode": {
    "name": "ipython",
    "version": 3
   },
   "file_extension": ".py",
   "mimetype": "text/x-python",
   "name": "python",
   "nbconvert_exporter": "python",
   "pygments_lexer": "ipython3",
   "version": "3.9.13"
  }
 },
 "nbformat": 4,
 "nbformat_minor": 5
}
